{
 "cells": [
  {
   "cell_type": "code",
   "execution_count": 14,
   "id": "b006d74e",
   "metadata": {},
   "outputs": [
    {
     "name": "stdout",
     "output_type": "stream",
     "text": [
      "|============================================|\n",
      "|                                            |\n",
      "|               Created                      |\n",
      "|   by yudhasintuwardhana08@mail.ugm.ac.id   |\n",
      "|                                            |\n",
      "|============================================|\n"
     ]
    }
   ],
   "source": [
    "print(\"|============================================|\")\n",
    "print(\"|                                            |\")\n",
    "print(\"|               Created                      |\")\n",
    "print(\"|   by yudhasintuwardhana08@mail.ugm.ac.id   |\")\n",
    "print(\"|                                            |\")\n",
    "print(\"|============================================|\")"
   ]
  },
  {
   "cell_type": "markdown",
   "id": "7dde1f04",
   "metadata": {},
   "source": [
    "# Belajar Python "
   ]
  },
  {
   "cell_type": "markdown",
   "id": "9f89a243",
   "metadata": {},
   "source": [
    "### Yok Bisa Yok"
   ]
  },
  {
   "cell_type": "code",
   "execution_count": 15,
   "id": "f58339cc",
   "metadata": {},
   "outputs": [
    {
     "name": "stdout",
     "output_type": "stream",
     "text": [
      "Pilihlah satu angka genap : 1\n",
      "1\n",
      "Wah jawaban kamu sedikit lagi benar\n"
     ]
    }
   ],
   "source": [
    "# Tebak - tebakan\n",
    "angka = int(input(\"Pilihlah satu angka genap : \"))\n",
    "print (angka)\n",
    "if (angka%2==0):\n",
    "    print(\"Selamat jawaban kamu benar\")\n",
    "else :\n",
    "    print(\"Wah jawaban kamu sedikit lagi benar\")\n",
    "    "
   ]
  },
  {
   "cell_type": "code",
   "execution_count": null,
   "id": "6be39570",
   "metadata": {},
   "outputs": [],
   "source": []
  }
 ],
 "metadata": {
  "kernelspec": {
   "display_name": "Python 3",
   "language": "python",
   "name": "python3"
  },
  "language_info": {
   "codemirror_mode": {
    "name": "ipython",
    "version": 3
   },
   "file_extension": ".py",
   "mimetype": "text/x-python",
   "name": "python",
   "nbconvert_exporter": "python",
   "pygments_lexer": "ipython3",
   "version": "3.8.5"
  }
 },
 "nbformat": 4,
 "nbformat_minor": 5
}
